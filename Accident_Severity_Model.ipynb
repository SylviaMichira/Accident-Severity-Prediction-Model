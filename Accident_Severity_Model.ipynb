{
  "nbformat": 4,
  "nbformat_minor": 0,
  "metadata": {
    "colab": {
      "provenance": [],
      "authorship_tag": "ABX9TyOs1WEFBlVfc1nQhMH62JDN",
      "include_colab_link": true
    },
    "kernelspec": {
      "name": "python3",
      "display_name": "Python 3"
    },
    "language_info": {
      "name": "python"
    }
  },
  "cells": [
    {
      "cell_type": "markdown",
      "metadata": {
        "id": "view-in-github",
        "colab_type": "text"
      },
      "source": [
        "<a href=\"https://colab.research.google.com/github/SylviaMichira/Accident-Severity-Prediction-Model/blob/main/Accident_Severity_Model.ipynb\" target=\"_parent\"><img src=\"https://colab.research.google.com/assets/colab-badge.svg\" alt=\"Open In Colab\"/></a>"
      ]
    },
    {
      "cell_type": "code",
      "source": [
        "import pandas as pd\n",
        "from sklearn.model_selection import train_test_split\n",
        "from sklearn.tree import DecisionTreeClassifier\n",
        "from sklearn.metrics import accuracy_score, classification_report, confusion_matrix\n",
        "# Load the dataset\n",
        "sylvia = pd.read_csv('/content/Traffic accidents_2019_Leeds.csv')\n",
        "# Split the data into features (X) and labels (y)\n",
        "X = sylvia.drop('Casualty Severity', axis=1)\n",
        "y = sylvia['Casualty Severity']\n",
        "# Split the data into training and testing sets\n",
        "X_train, X_test, y_train, y_test = train_test_split(X, y, test_size=0.2, random_state=42)"
      ],
      "metadata": {
        "id": "Da3ShJYiLUtM"
      },
      "execution_count": null,
      "outputs": []
    },
    {
      "cell_type": "code",
      "source": [
        "print(sylvia.head())  # To display the first few rows of the dataset\n",
        "print(sylvia.info())  # To display the summary information of the dataset\n"
      ],
      "metadata": {
        "colab": {
          "base_uri": "https://localhost:8080/"
        },
        "id": "utYNz5k5Lqxi",
        "outputId": "0936ecc0-046b-4b20-e6e4-8a01ac42efad"
      },
      "execution_count": null,
      "outputs": [
        {
          "output_type": "stream",
          "name": "stdout",
          "text": [
            "   Number of Vehicles Accident Date  Time (24hr)  Road Surface  \\\n",
            "0                   2    15/08/2019         1812             1   \n",
            "1                   2    15/08/2019         1812             1   \n",
            "2                   2    15/08/2019         1812             1   \n",
            "3                   2    15/08/2019         1812             1   \n",
            "4                   2    15/08/2019         1812             1   \n",
            "\n",
            "   Lighting Conditions  Weather Conditions  Vehicle Number  Type of Vehicle  \\\n",
            "0                    1                   1               2               11   \n",
            "1                    1                   1               2               11   \n",
            "2                    1                   1               2               11   \n",
            "3                    1                   1               2               11   \n",
            "4                    1                   1               2               11   \n",
            "\n",
            "   Casualty Class  Casualty Severity  Sex of Casualty  Age of Casualty  \n",
            "0               2                  3                2                6  \n",
            "1               2                  3                1                9  \n",
            "2               2                  3                2               39  \n",
            "3               2                  3                1                5  \n",
            "4               2                  3                2                8  \n",
            "<class 'pandas.core.frame.DataFrame'>\n",
            "RangeIndex: 1907 entries, 0 to 1906\n",
            "Data columns (total 12 columns):\n",
            " #   Column               Non-Null Count  Dtype \n",
            "---  ------               --------------  ----- \n",
            " 0   Number of Vehicles   1907 non-null   int64 \n",
            " 1   Accident Date        1907 non-null   object\n",
            " 2   Time (24hr)          1907 non-null   int64 \n",
            " 3   Road Surface         1907 non-null   int64 \n",
            " 4   Lighting Conditions  1907 non-null   int64 \n",
            " 5   Weather Conditions   1907 non-null   int64 \n",
            " 6   Vehicle Number       1907 non-null   int64 \n",
            " 7   Type of Vehicle      1907 non-null   int64 \n",
            " 8   Casualty Class       1907 non-null   int64 \n",
            " 9   Casualty Severity    1907 non-null   int64 \n",
            " 10  Sex of Casualty      1907 non-null   int64 \n",
            " 11  Age of Casualty      1907 non-null   int64 \n",
            "dtypes: int64(11), object(1)\n",
            "memory usage: 178.9+ KB\n",
            "None\n"
          ]
        }
      ]
    },
    {
      "cell_type": "code",
      "source": [
        "import datetime\n",
        "from sklearn.linear_model import LinearRegression\n",
        "\n",
        "# Create an instance of the LinearRegression model\n",
        "lr_model = LinearRegression()\n",
        "\n",
        "# Fit the model with your training data\n",
        "trained_model = lr_model.fit(X_train, y_train)\n",
        "\n",
        "df = pd.read_csv('/content/Traffic accidents_2019_Leeds.csv')  # Load  data from a CSV file\n",
        "\n",
        "# Convert the 'Accident date' column to a timestamp\n",
        "df['Accident Date'] = df['Accident Date'].apply(lambda x: datetime.datetime.strptime(x, '%d/%m/%Y').timestamp())\n",
        "\n",
        "# Update the training data\n",
        "X_train = df.drop(columns=['Accident Date'])\n",
        "y_train = df['Casualty Severity']\n",
        "\n",
        "# Fit the model (lr_model\n",
        "lr_model.fit(X_train, y_train)\n"
      ],
      "metadata": {
        "colab": {
          "base_uri": "https://localhost:8080/",
          "height": 75
        },
        "id": "3j0XbABgOvyk",
        "outputId": "fc6921fa-be45-4c4f-c455-42c65279f08f"
      },
      "execution_count": null,
      "outputs": [
        {
          "output_type": "execute_result",
          "data": {
            "text/plain": [
              "LinearRegression()"
            ],
            "text/html": [
              "<style>#sk-container-id-2 {color: black;background-color: white;}#sk-container-id-2 pre{padding: 0;}#sk-container-id-2 div.sk-toggleable {background-color: white;}#sk-container-id-2 label.sk-toggleable__label {cursor: pointer;display: block;width: 100%;margin-bottom: 0;padding: 0.3em;box-sizing: border-box;text-align: center;}#sk-container-id-2 label.sk-toggleable__label-arrow:before {content: \"▸\";float: left;margin-right: 0.25em;color: #696969;}#sk-container-id-2 label.sk-toggleable__label-arrow:hover:before {color: black;}#sk-container-id-2 div.sk-estimator:hover label.sk-toggleable__label-arrow:before {color: black;}#sk-container-id-2 div.sk-toggleable__content {max-height: 0;max-width: 0;overflow: hidden;text-align: left;background-color: #f0f8ff;}#sk-container-id-2 div.sk-toggleable__content pre {margin: 0.2em;color: black;border-radius: 0.25em;background-color: #f0f8ff;}#sk-container-id-2 input.sk-toggleable__control:checked~div.sk-toggleable__content {max-height: 200px;max-width: 100%;overflow: auto;}#sk-container-id-2 input.sk-toggleable__control:checked~label.sk-toggleable__label-arrow:before {content: \"▾\";}#sk-container-id-2 div.sk-estimator input.sk-toggleable__control:checked~label.sk-toggleable__label {background-color: #d4ebff;}#sk-container-id-2 div.sk-label input.sk-toggleable__control:checked~label.sk-toggleable__label {background-color: #d4ebff;}#sk-container-id-2 input.sk-hidden--visually {border: 0;clip: rect(1px 1px 1px 1px);clip: rect(1px, 1px, 1px, 1px);height: 1px;margin: -1px;overflow: hidden;padding: 0;position: absolute;width: 1px;}#sk-container-id-2 div.sk-estimator {font-family: monospace;background-color: #f0f8ff;border: 1px dotted black;border-radius: 0.25em;box-sizing: border-box;margin-bottom: 0.5em;}#sk-container-id-2 div.sk-estimator:hover {background-color: #d4ebff;}#sk-container-id-2 div.sk-parallel-item::after {content: \"\";width: 100%;border-bottom: 1px solid gray;flex-grow: 1;}#sk-container-id-2 div.sk-label:hover label.sk-toggleable__label {background-color: #d4ebff;}#sk-container-id-2 div.sk-serial::before {content: \"\";position: absolute;border-left: 1px solid gray;box-sizing: border-box;top: 0;bottom: 0;left: 50%;z-index: 0;}#sk-container-id-2 div.sk-serial {display: flex;flex-direction: column;align-items: center;background-color: white;padding-right: 0.2em;padding-left: 0.2em;position: relative;}#sk-container-id-2 div.sk-item {position: relative;z-index: 1;}#sk-container-id-2 div.sk-parallel {display: flex;align-items: stretch;justify-content: center;background-color: white;position: relative;}#sk-container-id-2 div.sk-item::before, #sk-container-id-2 div.sk-parallel-item::before {content: \"\";position: absolute;border-left: 1px solid gray;box-sizing: border-box;top: 0;bottom: 0;left: 50%;z-index: -1;}#sk-container-id-2 div.sk-parallel-item {display: flex;flex-direction: column;z-index: 1;position: relative;background-color: white;}#sk-container-id-2 div.sk-parallel-item:first-child::after {align-self: flex-end;width: 50%;}#sk-container-id-2 div.sk-parallel-item:last-child::after {align-self: flex-start;width: 50%;}#sk-container-id-2 div.sk-parallel-item:only-child::after {width: 0;}#sk-container-id-2 div.sk-dashed-wrapped {border: 1px dashed gray;margin: 0 0.4em 0.5em 0.4em;box-sizing: border-box;padding-bottom: 0.4em;background-color: white;}#sk-container-id-2 div.sk-label label {font-family: monospace;font-weight: bold;display: inline-block;line-height: 1.2em;}#sk-container-id-2 div.sk-label-container {text-align: center;}#sk-container-id-2 div.sk-container {/* jupyter's `normalize.less` sets `[hidden] { display: none; }` but bootstrap.min.css set `[hidden] { display: none !important; }` so we also need the `!important` here to be able to override the default hidden behavior on the sphinx rendered scikit-learn.org. See: https://github.com/scikit-learn/scikit-learn/issues/21755 */display: inline-block !important;position: relative;}#sk-container-id-2 div.sk-text-repr-fallback {display: none;}</style><div id=\"sk-container-id-2\" class=\"sk-top-container\"><div class=\"sk-text-repr-fallback\"><pre>LinearRegression()</pre><b>In a Jupyter environment, please rerun this cell to show the HTML representation or trust the notebook. <br />On GitHub, the HTML representation is unable to render, please try loading this page with nbviewer.org.</b></div><div class=\"sk-container\" hidden><div class=\"sk-item\"><div class=\"sk-estimator sk-toggleable\"><input class=\"sk-toggleable__control sk-hidden--visually\" id=\"sk-estimator-id-2\" type=\"checkbox\" checked><label for=\"sk-estimator-id-2\" class=\"sk-toggleable__label sk-toggleable__label-arrow\">LinearRegression</label><div class=\"sk-toggleable__content\"><pre>LinearRegression()</pre></div></div></div></div></div>"
            ]
          },
          "metadata": {},
          "execution_count": 39
        }
      ]
    },
    {
      "cell_type": "code",
      "source": [
        "# Make sure you have trained your model with lr_model.fit(X_train, y_train)\n",
        "trained_model = lr_model.fit(X_train, y_train)\n",
        "\n",
        "if trained_model is not None:\n",
        "    print(\"Model training was successful.\")\n",
        "else:\n",
        "    print(\"Model training had issues.\")\n"
      ],
      "metadata": {
        "colab": {
          "base_uri": "https://localhost:8080/"
        },
        "id": "TIH6-IsMTvpv",
        "outputId": "c220e4f1-c600-488c-ed21-ba4711647571"
      },
      "execution_count": null,
      "outputs": [
        {
          "output_type": "stream",
          "name": "stdout",
          "text": [
            "Model training was successful.\n"
          ]
        }
      ]
    },
    {
      "cell_type": "code",
      "source": [
        "# Hypothetical values for independent variables\n",
        "Number_of_Vehicles=3\n",
        "Accident_Date_Time_24hr=2030\n",
        "Road_Surface=1\n",
        "Lighting_Conditions=6\n",
        "Weather_Conditions=1\n",
        "Vehicle_Number=2\n",
        "Type_of_Vehicle=19\n",
        "Casualty_Class=3\n",
        "Sex_of_Casualty=2\n",
        "Age_of_Casualty=35\n",
        "# Create a feature vector with the hypothetical values\n",
        "feature_vector = [[Number_of_Vehicles,Accident_Date_Time_24hr,Road_Surface,Lighting_Conditions,Weather_Conditions,Vehicle_Number,Type_of_Vehicle,Casualty_Class,Sex_of_Casualty,Age_of_Casualty,]]\n",
        "\n",
        "# Use the trained model to make predictions\n",
        "predicted_severity = lr_model.predict('Casualty Severity')\n",
        "\n",
        "# The 'predicted_severity' variable now contains the predicted accident severity\n",
        "print(f\"Predicted Accident Severity: {predicted_severity[0]}\")\n"
      ],
      "metadata": {
        "id": "Sr3uYQ1IWN_e"
      },
      "execution_count": null,
      "outputs": []
    },
    {
      "cell_type": "code",
      "source": [
        "!apt-get install -y git\n"
      ],
      "metadata": {
        "colab": {
          "base_uri": "https://localhost:8080/"
        },
        "id": "ctNoPDPrtHrb",
        "outputId": "1f768617-c40f-462c-8216-862a89c32fa7"
      },
      "execution_count": 1,
      "outputs": [
        {
          "output_type": "stream",
          "name": "stdout",
          "text": [
            "\n",
            "Building dependency tree... Done\n",
            "Reading state information... Done\n",
            "git is already the newest version (1:2.34.1-1ubuntu1.10).\n",
            "0 upgraded, 0 newly installed, 0 to remove and 19 not upgraded.\n"
          ]
        }
      ]
    },
    {
      "cell_type": "code",
      "source": [
        "!git config --global user.name \"SylviaMichira\"\n",
        "!git config --global user.email \"sylviawaweru22@gmail.com\"\n"
      ],
      "metadata": {
        "id": "yJ41KEdQtrQl"
      },
      "execution_count": 3,
      "outputs": []
    },
    {
      "cell_type": "code",
      "source": [
        "!git clone https://github.com/SylviaMichira/Accident-Severity-Prediction-Model.git\n"
      ],
      "metadata": {
        "colab": {
          "base_uri": "https://localhost:8080/"
        },
        "id": "Cingi5inuxMn",
        "outputId": "eaabe2e4-e5ea-4dde-9f0e-92f40f190c0f"
      },
      "execution_count": 4,
      "outputs": [
        {
          "output_type": "stream",
          "name": "stdout",
          "text": [
            "Cloning into 'Accident-Severity-Prediction-Model'...\n",
            "remote: Enumerating objects: 3, done.\u001b[K\n",
            "remote: Counting objects: 100% (3/3), done.\u001b[K\n",
            "remote: Compressing objects: 100% (2/2), done.\u001b[K\n",
            "remote: Total 3 (delta 0), reused 0 (delta 0), pack-reused 0\u001b[K\n",
            "Receiving objects: 100% (3/3), done.\n"
          ]
        }
      ]
    }
  ]
}